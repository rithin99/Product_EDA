{
 "cells": [
  {
   "cell_type": "code",
   "execution_count": 3,
   "id": "ee752c70-e608-4240-86f4-659772d6bce3",
   "metadata": {},
   "outputs": [],
   "source": [
    "import pandas as pd\n",
    "import numpy as np"
   ]
  },
  {
   "cell_type": "code",
   "execution_count": 4,
   "id": "4f97870d-1449-4dd9-870c-f40723e4478f",
   "metadata": {},
   "outputs": [
    {
     "data": {
      "text/plain": [
       "(   Store  Dept        Date  Weekly_Sales  IsHoliday\n",
       " 0      1     1  05/02/2010      24924.50      False\n",
       " 1      1     1  12/02/2010      46039.49       True\n",
       " 2      1     1  19/02/2010      41595.55      False\n",
       " 3      1     1  26/02/2010      19403.54      False\n",
       " 4      1     1  05/03/2010      21827.90      False,\n",
       "    Store Type    Size\n",
       " 0      1    A  151315\n",
       " 1      2    A  202307\n",
       " 2      3    B   37392\n",
       " 3      4    A  205863\n",
       " 4      5    B   34875,\n",
       "    Store        Date  Temperature  Fuel_Price  MarkDown1  MarkDown2  \\\n",
       " 0      1  05/02/2010        42.31       2.572        NaN        NaN   \n",
       " 1      1  12/02/2010        38.51       2.548        NaN        NaN   \n",
       " 2      1  19/02/2010        39.93       2.514        NaN        NaN   \n",
       " 3      1  26/02/2010        46.63       2.561        NaN        NaN   \n",
       " 4      1  05/03/2010        46.50       2.625        NaN        NaN   \n",
       " \n",
       "    MarkDown3  MarkDown4  MarkDown5         CPI  Unemployment  IsHoliday  \n",
       " 0        NaN        NaN        NaN  211.096358         8.106      False  \n",
       " 1        NaN        NaN        NaN  211.242170         8.106       True  \n",
       " 2        NaN        NaN        NaN  211.289143         8.106      False  \n",
       " 3        NaN        NaN        NaN  211.319643         8.106      False  \n",
       " 4        NaN        NaN        NaN  211.350143         8.106      False  )"
      ]
     },
     "execution_count": 4,
     "metadata": {},
     "output_type": "execute_result"
    }
   ],
   "source": [
    "# Load datasets\n",
    "sales_df = pd.read_csv(r'C:\\Users\\007ri\\Product_EDA/data/sales data-set.csv')\n",
    "stores_df = pd.read_csv(r'C:\\Users\\007ri\\Product_EDA/data/stores data-set.csv')\n",
    "features_df = pd.read_csv(r'C:\\Users\\007ri\\Product_EDA/data/Features data set.csv')\n",
    "\n",
    "# display 1st few rows\n",
    "sales_df.head(), stores_df.head(), features_df.head()\n"
   ]
  },
  {
   "cell_type": "code",
   "execution_count": 16,
   "id": "f77fe6a5-eaaf-423d-a654-b2b8b5c7a640",
   "metadata": {},
   "outputs": [
    {
     "name": "stdout",
     "output_type": "stream",
     "text": [
      "✅ Dataset summary saved to 'dataset_summary.txt'\n"
     ]
    }
   ],
   "source": [
    "# Function to describe dataset and save to file\n",
    "def describe_dataset(df, name, file):\n",
    "    file.write(f\"\\n Dataset: {name}\\n\")\n",
    "    file.write(\"-\" * 50 + \"\\n\")\n",
    "    file.write(\"\\n Column Info:\\n\")\n",
    "    file.write(str(df.info(buf=file)) + \"\\n\")  # Show column types and missing values\n",
    "    file.write(\"\\n First 5 Rows:\\n\")\n",
    "    file.write(str(df.head()) + \"\\n\")  # Show first few rows\n",
    "    file.write(\"\\n Summary Statistics:\\n\")\n",
    "    file.write(str(df.describe()) + \"\\n\")  # Show numerical summary\n",
    "    \n",
    "# Save output to a text file\n",
    "with open(r\"C:\\Users\\007ri\\Product_EDA/reports/datasets_info.txt\", \"w\", encoding=\"utf-8\") as file:\n",
    "    describe_dataset(sales_df, \"Sales Data\", file)\n",
    "    describe_dataset(stores_df, \"Stores Data\", file)\n",
    "    describe_dataset(features_df, \"Features Data\", file)\n",
    "\n",
    "print(\"Dataset info saved to 'dataset_summary.txt'\")"
   ]
  },
  {
   "cell_type": "code",
   "execution_count": 3,
   "id": "e305c2ff-f10e-4569-b84a-d6c960f0f01f",
   "metadata": {},
   "outputs": [
    {
     "name": "stdout",
     "output_type": "stream",
     "text": [
      "Store           0\n",
      "Dept            0\n",
      "Date            0\n",
      "Weekly_Sales    0\n",
      "IsHoliday       0\n",
      "dtype: int64\n",
      "Store           0\n",
      "Date            0\n",
      "Temperature     0\n",
      "Fuel_Price      0\n",
      "MarkDown1       0\n",
      "MarkDown2       0\n",
      "MarkDown3       0\n",
      "MarkDown4       0\n",
      "MarkDown5       0\n",
      "CPI             0\n",
      "Unemployment    0\n",
      "IsHoliday       0\n",
      "dtype: int64\n",
      "Store    0\n",
      "Type     0\n",
      "Size     0\n",
      "dtype: int64\n"
     ]
    }
   ],
   "source": [
    "# Convert 'Date' columns to datetime format\n",
    "sales_df[\"Date\"] = pd.to_datetime(sales_df[\"Date\"], format=\"%d/%m/%Y\")\n",
    "features_df[\"Date\"] = pd.to_datetime(features_df[\"Date\"], format=\"%d/%m/%Y\")\n",
    "\n",
    "# Fill missing values in Markdown columns with 0\n",
    "markdown_cols = [\"MarkDown1\", \"MarkDown2\", \"MarkDown3\", \"MarkDown4\", \"MarkDown5\"]\n",
    "features_df[markdown_cols] = features_df[markdown_cols].fillna(0)\n",
    "\n",
    "# Fill CPI & Unemployment missing values using forward fill\n",
    "features_df[\"CPI\"] = features_df[\"CPI\"].ffill()\n",
    "features_df[\"Unemployment\"] = features_df[\"Unemployment\"].ffill()\n",
    "\n",
    "# Check for missing values\n",
    "print(sales_df.isnull().sum())\n",
    "print(features_df.isnull().sum())\n",
    "print(stores_df.isnull().sum())\n"
   ]
  },
  {
   "cell_type": "code",
   "execution_count": 19,
   "id": "d0474217-3d99-412f-863b-c422dfc28b6f",
   "metadata": {},
   "outputs": [
    {
     "name": "stdout",
     "output_type": "stream",
     "text": [
      "Statistics summary saved to file\n"
     ]
    }
   ],
   "source": [
    "#Function to Calculate mean, median, and standard deviation for numeric columns of a DataFrame and save it to a text file.\n",
    "def calculate_and_save_statistics(df, dataset_name, file):\n",
    "   \n",
    "    # Calculate statistics\n",
    "\n",
    "    file.write(f\"\\n ---- {dataset_name} Statistics ----\\n\")\n",
    "    file.write(\"Mean:\\n\" + str(df.mean(numeric_only=True)) + \"\\n\")\n",
    "    file.write(\"Median:\\n\" + str(df.median(numeric_only=True)) + \"\\n\")\n",
    "    file.write(\"Standard Deviation:\\n\" + str(df.std(numeric_only=True)) + \"\\n\")\n",
    "\n",
    "with open(r\"C:\\Users\\007ri\\Product_EDA/reports/summary_statistics.txt\", \"w\", encoding=\"utf-8\") as file:\n",
    "\n",
    "    calculate_and_save_statistics(sales_df, \"Sales Data\", file)\n",
    "    calculate_and_save_statistics(stores_df, \"Stores Data\", file)\n",
    "    calculate_and_save_statistics(features_df, \"Features Data\", file)\n",
    "\n",
    "print(\"Statistics summary saved to file\")\n"
   ]
  },
  {
   "cell_type": "code",
   "execution_count": 4,
   "id": "951c7b1e-0f7f-453e-8db8-7311fbe3c662",
   "metadata": {},
   "outputs": [
    {
     "name": "stdout",
     "output_type": "stream",
     "text": [
      "<class 'pandas.core.frame.DataFrame'>\n",
      "RangeIndex: 421570 entries, 0 to 421569\n",
      "Data columns (total 17 columns):\n",
      " #   Column        Non-Null Count   Dtype         \n",
      "---  ------        --------------   -----         \n",
      " 0   Store         421570 non-null  int64         \n",
      " 1   Dept          421570 non-null  int64         \n",
      " 2   Date          421570 non-null  datetime64[ns]\n",
      " 3   Weekly_Sales  421570 non-null  float64       \n",
      " 4   IsHoliday_x   421570 non-null  bool          \n",
      " 5   Type          421570 non-null  object        \n",
      " 6   Size          421570 non-null  int64         \n",
      " 7   Temperature   421570 non-null  float64       \n",
      " 8   Fuel_Price    421570 non-null  float64       \n",
      " 9   MarkDown1     421570 non-null  float64       \n",
      " 10  MarkDown2     421570 non-null  float64       \n",
      " 11  MarkDown3     421570 non-null  float64       \n",
      " 12  MarkDown4     421570 non-null  float64       \n",
      " 13  MarkDown5     421570 non-null  float64       \n",
      " 14  CPI           421570 non-null  float64       \n",
      " 15  Unemployment  421570 non-null  float64       \n",
      " 16  IsHoliday_y   421570 non-null  bool          \n",
      "dtypes: bool(2), datetime64[ns](1), float64(10), int64(3), object(1)\n",
      "memory usage: 49.0+ MB\n",
      "None\n"
     ]
    }
   ],
   "source": [
    "# Merge sales with store details\n",
    "merged_df = sales_df.merge(stores_df, on=\"Store\", how=\"left\")\n",
    "\n",
    "# Merge with features dataset\n",
    "merged_df = merged_df.merge(features_df, on=[\"Store\", \"Date\"], how=\"left\")\n",
    "\n",
    "# Display the merged data structure\n",
    "print(merged_df.info())"
   ]
  },
  {
   "cell_type": "code",
   "execution_count": 5,
   "id": "400fc7be-3c46-469f-9c16-bc5aafafa78f",
   "metadata": {},
   "outputs": [
    {
     "name": "stdout",
     "output_type": "stream",
     "text": [
      "               Store           Dept                           Date  \\\n",
      "count  421570.000000  421570.000000                         421570   \n",
      "mean       22.200546      44.260317  2011-06-18 08:30:31.963375104   \n",
      "min         1.000000       1.000000            2010-02-05 00:00:00   \n",
      "25%        11.000000      18.000000            2010-10-08 00:00:00   \n",
      "50%        22.000000      37.000000            2011-06-17 00:00:00   \n",
      "75%        33.000000      74.000000            2012-02-24 00:00:00   \n",
      "max        45.000000      99.000000            2012-10-26 00:00:00   \n",
      "std        12.785297      30.492054                            NaN   \n",
      "\n",
      "        Weekly_Sales           Size    Temperature     Fuel_Price  \\\n",
      "count  421570.000000  421570.000000  421570.000000  421570.000000   \n",
      "mean    15981.258123  136727.915739      60.090059       3.361027   \n",
      "min     -4988.940000   34875.000000      -2.060000       2.472000   \n",
      "25%      2079.650000   93638.000000      46.680000       2.933000   \n",
      "50%      7612.030000  140167.000000      62.090000       3.452000   \n",
      "75%     20205.852500  202505.000000      74.280000       3.738000   \n",
      "max    693099.360000  219622.000000     100.140000       4.468000   \n",
      "std     22711.183519   60980.583328      18.447931       0.458515   \n",
      "\n",
      "           MarkDown1      MarkDown2      MarkDown3      MarkDown4  \\\n",
      "count  421570.000000  421570.000000  421570.000000  421570.000000   \n",
      "mean     2590.074819     879.974298     468.087665    1083.132268   \n",
      "min         0.000000    -265.760000     -29.100000       0.000000   \n",
      "25%         0.000000       0.000000       0.000000       0.000000   \n",
      "50%         0.000000       0.000000       0.000000       0.000000   \n",
      "75%      2809.050000       2.200000       4.540000     425.290000   \n",
      "max     88646.760000  104519.540000  141630.610000   67474.850000   \n",
      "std      6052.385934    5084.538801    5528.873453    3894.529945   \n",
      "\n",
      "           MarkDown5            CPI   Unemployment  \n",
      "count  421570.000000  421570.000000  421570.000000  \n",
      "mean     1662.772385     171.201947       7.960289  \n",
      "min         0.000000     126.064000       3.879000  \n",
      "25%         0.000000     132.022667       6.891000  \n",
      "50%         0.000000     182.318780       7.866000  \n",
      "75%      2168.040000     212.416993       8.572000  \n",
      "max    108519.280000     227.232807      14.313000  \n",
      "std      4207.629321      39.159276       1.863296  \n",
      "              mean    median           std\n",
      "Type                                      \n",
      "A     20099.568043  10105.17  26423.457227\n",
      "B     12237.075977   6187.87  17203.668989\n",
      "C      9519.532538   1149.67  15985.351612\n",
      "                     mean   median           std\n",
      "IsHoliday_x                                     \n",
      "False        15901.445069  7589.95  22330.747450\n",
      "True         17035.823187  7947.74  27222.000409\n"
     ]
    }
   ],
   "source": [
    "# Summary statistics\n",
    "print(\"Summary Statistics:\\n\", merged_df.describe())\n",
    "\n",
    "# Sales Summary by Store Type\n",
    "print(\"\\nSales Summary by Store Type:\\n\", merged_df.groupby(\"Type\")[\"Weekly_Sales\"].agg([\"mean\", \"median\", \"std\"]))\n",
    "\n",
    "# Sales Summary by Holiday\n",
    "print(\"\\nSales Summary by Holiday:\\n\", merged_df.groupby(\"IsHoliday_x\")[\"Weekly_Sales\"].agg([\"mean\", \"median\", \"std\"]))\n"
   ]
  },
  {
   "cell_type": "code",
   "execution_count": 17,
   "id": "e4065b06-2314-4248-845d-2bdee074078b",
   "metadata": {},
   "outputs": [
    {
     "name": "stdout",
     "output_type": "stream",
     "text": [
      "Sales Data Statistics:\n",
      "Mean:\n",
      " Store              22.200546\n",
      "Dept               44.260317\n",
      "Weekly_Sales    15981.258123\n",
      "IsHoliday           0.070358\n",
      "dtype: float64\n",
      "Median:\n",
      " Store             22.00\n",
      "Dept              37.00\n",
      "Weekly_Sales    7612.03\n",
      "IsHoliday          0.00\n",
      "dtype: float64\n",
      "Standard Deviation:\n",
      " Store              12.785297\n",
      "Dept               30.492054\n",
      "Weekly_Sales    22711.183519\n",
      "IsHoliday           0.255750\n",
      "dtype: float64\n",
      "\n",
      "Stores Data Statistics:\n",
      "Mean:\n",
      " Store        23.0\n",
      "Size     130287.6\n",
      "dtype: float64\n",
      "Median:\n",
      " Store        23.0\n",
      "Size     126512.0\n",
      "dtype: float64\n",
      "Standard Deviation:\n",
      " Store       13.133926\n",
      "Size     63825.271991\n",
      "dtype: float64\n",
      "\n",
      "Features Data Statistics:\n",
      "Mean:\n",
      " Store             23.000000\n",
      "Temperature       59.356198\n",
      "Fuel_Price         3.405992\n",
      "MarkDown1       7032.371786\n",
      "MarkDown2       3384.176594\n",
      "MarkDown3       1760.100180\n",
      "MarkDown4       3292.935886\n",
      "MarkDown5       4132.216422\n",
      "CPI              172.460809\n",
      "Unemployment       7.826821\n",
      "IsHoliday          0.071429\n",
      "dtype: float64\n",
      "Median:\n",
      " Store             23.000000\n",
      "Temperature       60.710000\n",
      "Fuel_Price         3.513000\n",
      "MarkDown1       4743.580000\n",
      "MarkDown2        364.570000\n",
      "MarkDown3         36.260000\n",
      "MarkDown4       1176.425000\n",
      "MarkDown5       2727.135000\n",
      "CPI              182.764003\n",
      "Unemployment       7.806000\n",
      "IsHoliday          0.000000\n",
      "dtype: float64\n",
      "Standard Deviation:\n",
      " Store              12.987966\n",
      "Temperature        18.678607\n",
      "Fuel_Price          0.431337\n",
      "MarkDown1        9262.747448\n",
      "MarkDown2        8793.583016\n",
      "MarkDown3       11276.462208\n",
      "MarkDown4        6792.329861\n",
      "MarkDown5       13086.690278\n",
      "CPI                39.738346\n",
      "Unemployment        1.877259\n",
      "IsHoliday           0.257555\n",
      "dtype: float64\n"
     ]
    }
   ],
   "source": [
    "# Calculate for Sales Data\n",
    "print(\"Sales Data Statistics:\")\n",
    "print(\"Mean:\\n\", sales_df.mean(numeric_only=True))\n",
    "print(\"Median:\\n\", sales_df.median(numeric_only=True))\n",
    "print(\"Standard Deviation:\\n\", sales_df.std(numeric_only=True))\n",
    "\n",
    "# Calculate for Stores Data\n",
    "print(\"\\nStores Data Statistics:\")\n",
    "print(\"Mean:\\n\", stores_df.mean(numeric_only=True))\n",
    "print(\"Median:\\n\", stores_df.median(numeric_only=True))\n",
    "print(\"Standard Deviation:\\n\", stores_df.std(numeric_only=True))\n",
    "\n",
    "# Calculate for Features Data\n",
    "print(\"\\nFeatures Data Statistics:\")\n",
    "print(\"Mean:\\n\", features_df.mean(numeric_only=True))\n",
    "print(\"Median:\\n\", features_df.median(numeric_only=True))\n",
    "print(\"Standard Deviation:\\n\", features_df.std(numeric_only=True))"
   ]
  }
 ],
 "metadata": {
  "kernelspec": {
   "display_name": "Python 3 (ipykernel)",
   "language": "python",
   "name": "python3"
  },
  "language_info": {
   "codemirror_mode": {
    "name": "ipython",
    "version": 3
   },
   "file_extension": ".py",
   "mimetype": "text/x-python",
   "name": "python",
   "nbconvert_exporter": "python",
   "pygments_lexer": "ipython3",
   "version": "3.13.2"
  }
 },
 "nbformat": 4,
 "nbformat_minor": 5
}
