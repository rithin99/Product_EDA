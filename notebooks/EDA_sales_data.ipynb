{
 "cells": [
  {
   "cell_type": "code",
   "execution_count": 1,
   "id": "ee752c70-e608-4240-86f4-659772d6bce3",
   "metadata": {},
   "outputs": [],
   "source": [
    "import pandas as pd\n",
    "import numpy as np\n",
    "import sys\n",
    "import os\n",
    "sys.path.append(os.path.abspath('../src'))\n",
    "\n",
    "from data_load import load_data\n",
    "from data_load import describe_dataset\n",
    "from eda import convert_to_datetime\n",
    "from eda import clean_features_data\n",
    "from eda import calculate_and_save_statistics\n"
   ]
  },
  {
   "cell_type": "code",
   "execution_count": 2,
   "id": "4f97870d-1449-4dd9-870c-f40723e4478f",
   "metadata": {},
   "outputs": [
    {
     "name": "stdout",
     "output_type": "stream",
     "text": [
      "Successfully loaded data from C:\\Users\\007ri\\Product_EDA/data/sales data-set.csv\n",
      "Successfully loaded data from C:\\Users\\007ri\\Product_EDA/data/stores data-set.csv\n",
      "Successfully loaded data from C:\\Users\\007ri\\Product_EDA/data/Features data set.csv\n"
     ]
    },
    {
     "data": {
      "text/plain": [
       "(   Store  Dept        Date  Weekly_Sales  IsHoliday\n",
       " 0      1     1  05/02/2010      24924.50      False\n",
       " 1      1     1  12/02/2010      46039.49       True\n",
       " 2      1     1  19/02/2010      41595.55      False\n",
       " 3      1     1  26/02/2010      19403.54      False\n",
       " 4      1     1  05/03/2010      21827.90      False,\n",
       "    Store Type    Size\n",
       " 0      1    A  151315\n",
       " 1      2    A  202307\n",
       " 2      3    B   37392\n",
       " 3      4    A  205863\n",
       " 4      5    B   34875,\n",
       "    Store        Date  Temperature  Fuel_Price  MarkDown1  MarkDown2  \\\n",
       " 0      1  05/02/2010        42.31       2.572        NaN        NaN   \n",
       " 1      1  12/02/2010        38.51       2.548        NaN        NaN   \n",
       " 2      1  19/02/2010        39.93       2.514        NaN        NaN   \n",
       " 3      1  26/02/2010        46.63       2.561        NaN        NaN   \n",
       " 4      1  05/03/2010        46.50       2.625        NaN        NaN   \n",
       " \n",
       "    MarkDown3  MarkDown4  MarkDown5         CPI  Unemployment  IsHoliday  \n",
       " 0        NaN        NaN        NaN  211.096358         8.106      False  \n",
       " 1        NaN        NaN        NaN  211.242170         8.106       True  \n",
       " 2        NaN        NaN        NaN  211.289143         8.106      False  \n",
       " 3        NaN        NaN        NaN  211.319643         8.106      False  \n",
       " 4        NaN        NaN        NaN  211.350143         8.106      False  )"
      ]
     },
     "execution_count": 2,
     "metadata": {},
     "output_type": "execute_result"
    }
   ],
   "source": [
    "# Load datasets\n",
    "sales_df = load_data(r'C:\\Users\\007ri\\Product_EDA/data/sales data-set.csv')\n",
    "stores_df = load_data(r'C:\\Users\\007ri\\Product_EDA/data/stores data-set.csv')\n",
    "features_df = load_data(r'C:\\Users\\007ri\\Product_EDA/data/Features data set.csv')\n",
    "\n",
    "# display 1st few rows\n",
    "sales_df.head(), stores_df.head(), features_df.head()\n"
   ]
  },
  {
   "cell_type": "code",
   "execution_count": 3,
   "id": "f77fe6a5-eaaf-423d-a654-b2b8b5c7a640",
   "metadata": {},
   "outputs": [
    {
     "name": "stdout",
     "output_type": "stream",
     "text": [
      "Dataset info saved to 'dataset_summary.txt'\n"
     ]
    }
   ],
   "source": [
    " # Save dataset info to a text file\n",
    "with open(r\"C:\\Users\\007ri\\Product_EDA/reports/datasets_info.txt\", \"w\", encoding=\"utf-8\") as file:\n",
    "    describe_dataset(sales_df, \"Sales Data\", file)\n",
    "    describe_dataset(stores_df, \"Stores Data\", file)\n",
    "    describe_dataset(features_df, \"Features Data\", file)\n",
    "\n",
    "print(\"Dataset info saved to 'dataset_summary.txt'\")"
   ]
  },
  {
   "cell_type": "code",
   "execution_count": 3,
   "id": "e305c2ff-f10e-4569-b84a-d6c960f0f01f",
   "metadata": {},
   "outputs": [
    {
     "name": "stdout",
     "output_type": "stream",
     "text": [
      "Store           0\n",
      "Dept            0\n",
      "Date            0\n",
      "Weekly_Sales    0\n",
      "IsHoliday       0\n",
      "dtype: int64\n",
      "Store           0\n",
      "Date            0\n",
      "Temperature     0\n",
      "Fuel_Price      0\n",
      "MarkDown1       0\n",
      "MarkDown2       0\n",
      "MarkDown3       0\n",
      "MarkDown4       0\n",
      "MarkDown5       0\n",
      "CPI             0\n",
      "Unemployment    0\n",
      "IsHoliday       0\n",
      "dtype: int64\n",
      "Store    0\n",
      "Type     0\n",
      "Size     0\n",
      "dtype: int64\n"
     ]
    }
   ],
   "source": [
    "# Convert 'Date' columns to datetime format\n",
    "sales_df[\"Date\"] = convert_to_datetime(sales_df)\n",
    "features_df[\"Date\"] = convert_to_datetime(features_df)\n",
    "\n",
    "# Fill Markdown columns missing values with 0 and CPI & Unemployment missing values using forward fill\n",
    "features_df = clean_features_data(features_df)\n",
    "\n",
    "# Check for missing values\n",
    "print(sales_df.isnull().sum())\n",
    "print(features_df.isnull().sum())\n",
    "print(stores_df.isnull().sum())\n"
   ]
  },
  {
   "cell_type": "code",
   "execution_count": 4,
   "id": "d0474217-3d99-412f-863b-c422dfc28b6f",
   "metadata": {},
   "outputs": [
    {
     "name": "stdout",
     "output_type": "stream",
     "text": [
      "Statistics summary saved to file\n"
     ]
    }
   ],
   "source": [
    "# Calculate mean, median, and standard deviation for numeric columns of a DataFrame and save it to a text file\n",
    "with open(r\"C:\\Users\\007ri\\Product_EDA/reports/summary_statistics.txt\", \"w\", encoding=\"utf-8\") as file:\n",
    "\n",
    "    calculate_and_save_statistics(sales_df, \"Sales Data\", file)\n",
    "    calculate_and_save_statistics(stores_df, \"Stores Data\", file)\n",
    "    calculate_and_save_statistics(features_df, \"Features Data\", file)\n",
    "\n",
    "print(\"Statistics summary saved to file\")\n"
   ]
  },
  {
   "cell_type": "code",
   "execution_count": 9,
   "id": "951c7b1e-0f7f-453e-8db8-7311fbe3c662",
   "metadata": {},
   "outputs": [
    {
     "name": "stdout",
     "output_type": "stream",
     "text": [
      "<class 'pandas.core.frame.DataFrame'>\n",
      "RangeIndex: 421570 entries, 0 to 421569\n",
      "Data columns (total 16 columns):\n",
      " #   Column        Non-Null Count   Dtype         \n",
      "---  ------        --------------   -----         \n",
      " 0   Store         421570 non-null  int64         \n",
      " 1   Dept          421570 non-null  int64         \n",
      " 2   Date          421570 non-null  datetime64[ns]\n",
      " 3   Weekly_Sales  421570 non-null  float64       \n",
      " 4   IsHoliday     421570 non-null  bool          \n",
      " 5   Type          421570 non-null  object        \n",
      " 6   Size          421570 non-null  int64         \n",
      " 7   Temperature   421570 non-null  float64       \n",
      " 8   Fuel_Price    421570 non-null  float64       \n",
      " 9   MarkDown1     421570 non-null  float64       \n",
      " 10  MarkDown2     421570 non-null  float64       \n",
      " 11  MarkDown3     421570 non-null  float64       \n",
      " 12  MarkDown4     421570 non-null  float64       \n",
      " 13  MarkDown5     421570 non-null  float64       \n",
      " 14  CPI           421570 non-null  float64       \n",
      " 15  Unemployment  421570 non-null  float64       \n",
      "dtypes: bool(1), datetime64[ns](1), float64(10), int64(3), object(1)\n",
      "memory usage: 48.6+ MB\n",
      "None\n"
     ]
    }
   ],
   "source": [
    "# Merge sales with store details\n",
    "merged_df = sales_df.merge(stores_df, on=\"Store\", how=\"left\")\n",
    "\n",
    "# Merge with features dataset\n",
    "merged_df = merged_df.merge(features_df, on=[\"Store\", \"Date\",\"IsHoliday\"], how=\"left\")\n",
    "\n",
    "# Display the merged data structure\n",
    "print(merged_df.info())\n",
    "\n",
    "# Merged dataset is written into a file for generating Power BI reports\n",
    "merged_df.to_csv(r\"C:\\Users\\007ri\\Product_EDA/data/processed_merged_dataset.csv\", index=False)\n"
   ]
  },
  {
   "cell_type": "code",
   "execution_count": 12,
   "id": "400fc7be-3c46-469f-9c16-bc5aafafa78f",
   "metadata": {},
   "outputs": [
    {
     "name": "stdout",
     "output_type": "stream",
     "text": [
      "Summary Statistics:\n",
      "                Store           Dept                           Date  \\\n",
      "count  421570.000000  421570.000000                         421570   \n",
      "mean       22.200546      44.260317  2011-06-18 08:30:31.963375104   \n",
      "min         1.000000       1.000000            2010-02-05 00:00:00   \n",
      "25%        11.000000      18.000000            2010-10-08 00:00:00   \n",
      "50%        22.000000      37.000000            2011-06-17 00:00:00   \n",
      "75%        33.000000      74.000000            2012-02-24 00:00:00   \n",
      "max        45.000000      99.000000            2012-10-26 00:00:00   \n",
      "std        12.785297      30.492054                            NaN   \n",
      "\n",
      "        Weekly_Sales           Size    Temperature     Fuel_Price  \\\n",
      "count  421570.000000  421570.000000  421570.000000  421570.000000   \n",
      "mean    15981.258123  136727.915739      60.090059       3.361027   \n",
      "min     -4988.940000   34875.000000      -2.060000       2.472000   \n",
      "25%      2079.650000   93638.000000      46.680000       2.933000   \n",
      "50%      7612.030000  140167.000000      62.090000       3.452000   \n",
      "75%     20205.852500  202505.000000      74.280000       3.738000   \n",
      "max    693099.360000  219622.000000     100.140000       4.468000   \n",
      "std     22711.183519   60980.583328      18.447931       0.458515   \n",
      "\n",
      "           MarkDown1      MarkDown2      MarkDown3      MarkDown4  \\\n",
      "count  421570.000000  421570.000000  421570.000000  421570.000000   \n",
      "mean     2590.074819     879.974298     468.087665    1083.132268   \n",
      "min         0.000000    -265.760000     -29.100000       0.000000   \n",
      "25%         0.000000       0.000000       0.000000       0.000000   \n",
      "50%         0.000000       0.000000       0.000000       0.000000   \n",
      "75%      2809.050000       2.200000       4.540000     425.290000   \n",
      "max     88646.760000  104519.540000  141630.610000   67474.850000   \n",
      "std      6052.385934    5084.538801    5528.873453    3894.529945   \n",
      "\n",
      "           MarkDown5            CPI   Unemployment  \n",
      "count  421570.000000  421570.000000  421570.000000  \n",
      "mean     1662.772385     171.201947       7.960289  \n",
      "min         0.000000     126.064000       3.879000  \n",
      "25%         0.000000     132.022667       6.891000  \n",
      "50%         0.000000     182.318780       7.866000  \n",
      "75%      2168.040000     212.416993       8.572000  \n",
      "max    108519.280000     227.232807      14.313000  \n",
      "std      4207.629321      39.159276       1.863296  \n",
      "\n",
      "Sales Summary by Store Type:\n",
      "               mean    median           std\n",
      "Type                                      \n",
      "A     20099.568043  10105.17  26423.457227\n",
      "B     12237.075977   6187.87  17203.668989\n",
      "C      9519.532538   1149.67  15985.351612\n",
      "\n",
      "Sales Summary by Holiday:\n",
      "                    mean   median           std\n",
      "IsHoliday                                     \n",
      "False      15901.445069  7589.95  22330.747450\n",
      "True       17035.823187  7947.74  27222.000409\n",
      "\n",
      "Sales Summary by Store:\n",
      "                mean     median           std\n",
      "Store                                       \n",
      "1      21710.543621  10289.375  27748.945511\n",
      "2      26898.070031  14333.530  33077.612059\n",
      "3       6373.033983   2804.815  14251.034807\n",
      "4      29161.210415  15116.810  34583.677814\n",
      "5       5053.415813   2582.660   8068.221050\n",
      "6      21913.243624  13637.840  23633.427075\n",
      "7       8358.766148   4575.240  10679.008085\n",
      "8      13133.014768   7164.160  15132.069598\n",
      "9       8772.890379   4205.470  12446.502614\n",
      "10     26332.303819  13941.430  32133.006264\n",
      "11     19276.762751  12322.110  20391.897907\n",
      "12     14867.308619   8141.620  17967.248878\n",
      "13     27355.136891  14018.455  33853.474638\n",
      "14     28784.851727  15208.805  36911.116744\n",
      "15      9002.493073   4798.870  11362.009143\n",
      "16      7863.224124   4134.910  10491.369269\n",
      "17     12954.393636   6758.145  16299.024131\n",
      "18     15733.313136   9282.020  18556.351564\n",
      "19     20362.126734  12410.055  24281.125431\n",
      "20     29508.301592  16249.780  35661.530620\n",
      "21     11283.435496   6703.750  13030.320859\n",
      "22     15181.218886   8270.225  18430.662585\n",
      "23     19776.180881  11993.015  20897.076552\n",
      "24     18969.106500  10532.430  23332.133357\n",
      "25     10308.157810   5539.170  12499.150431\n",
      "26     14554.129672   7083.465  20109.504461\n",
      "27     24826.984536  13625.950  29718.919095\n",
      "28     18714.889803  10941.930  22440.041482\n",
      "29      8158.810609   4712.540  10219.308122\n",
      "30      8764.237719   1047.950  14364.314622\n",
      "31     19681.907464   8511.325  26841.564038\n",
      "32     16351.621855   7584.315  20899.324704\n",
      "33      5728.414053    912.810   8973.688840\n",
      "34     13522.081671   6680.565  16085.334848\n",
      "35     13803.596986   9211.620  18312.463149\n",
      "36      8584.412563   1903.285  12995.813451\n",
      "37     10297.355026   1722.900  16295.492638\n",
      "38      7492.478460    751.255  12733.356273\n",
      "39     21000.763562  11016.425  25373.751512\n",
      "40     13763.632803   6989.990  17729.598682\n",
      "41     17976.004648   8927.475  22836.255565\n",
      "42     11443.370118   1293.800  18258.531574\n",
      "43     13415.114118   1732.530  20810.915093\n",
      "44      6038.929814    799.530  10609.468795\n",
      "45     11662.897315   6019.300  14075.515949\n"
     ]
    }
   ],
   "source": [
    "# Summary statistics\n",
    "print(\"Summary Statistics:\\n\", merged_df.describe())\n",
    "\n",
    "# Sales Summary by Store Type\n",
    "print(\"\\nSales Summary by Store Type:\\n\", merged_df.groupby(\"Type\")[\"Weekly_Sales\"].agg([\"mean\", \"median\", \"std\"]))\n",
    "\n",
    "# Sales Summary by Holiday\n",
    "print(\"\\nSales Summary by Holiday:\\n\", merged_df.groupby(\"IsHoliday\")[\"Weekly_Sales\"].agg([\"mean\", \"median\", \"std\"]))\n",
    "\n",
    "# Sales Summary by Store number\n",
    "print(\"\\nSales Summary by Store:\\n\", merged_df.groupby(\"Store\")[\"Weekly_Sales\"].agg([\"mean\", \"median\", \"std\"]))\n"
   ]
  }
 ],
 "metadata": {
  "kernelspec": {
   "display_name": "Python 3 (ipykernel)",
   "language": "python",
   "name": "python3"
  },
  "language_info": {
   "codemirror_mode": {
    "name": "ipython",
    "version": 3
   },
   "file_extension": ".py",
   "mimetype": "text/x-python",
   "name": "python",
   "nbconvert_exporter": "python",
   "pygments_lexer": "ipython3",
   "version": "3.13.2"
  }
 },
 "nbformat": 4,
 "nbformat_minor": 5
}
