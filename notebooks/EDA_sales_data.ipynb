{
 "cells": [
  {
   "cell_type": "code",
   "execution_count": 1,
   "id": "ee752c70-e608-4240-86f4-659772d6bce3",
   "metadata": {},
   "outputs": [],
   "source": [
    "import pandas as pd\n",
    "import numpy as np"
   ]
  },
  {
   "cell_type": "code",
   "execution_count": 4,
   "id": "4f97870d-1449-4dd9-870c-f40723e4478f",
   "metadata": {},
   "outputs": [
    {
     "data": {
      "text/plain": [
       "(   Store  Dept        Date  Weekly_Sales  IsHoliday\n",
       " 0      1     1  05/02/2010      24924.50      False\n",
       " 1      1     1  12/02/2010      46039.49       True\n",
       " 2      1     1  19/02/2010      41595.55      False\n",
       " 3      1     1  26/02/2010      19403.54      False\n",
       " 4      1     1  05/03/2010      21827.90      False,\n",
       "    Store Type    Size\n",
       " 0      1    A  151315\n",
       " 1      2    A  202307\n",
       " 2      3    B   37392\n",
       " 3      4    A  205863\n",
       " 4      5    B   34875,\n",
       "    Store        Date  Temperature  Fuel_Price  MarkDown1  MarkDown2  \\\n",
       " 0      1  05/02/2010        42.31       2.572        NaN        NaN   \n",
       " 1      1  12/02/2010        38.51       2.548        NaN        NaN   \n",
       " 2      1  19/02/2010        39.93       2.514        NaN        NaN   \n",
       " 3      1  26/02/2010        46.63       2.561        NaN        NaN   \n",
       " 4      1  05/03/2010        46.50       2.625        NaN        NaN   \n",
       " \n",
       "    MarkDown3  MarkDown4  MarkDown5         CPI  Unemployment  IsHoliday  \n",
       " 0        NaN        NaN        NaN  211.096358         8.106      False  \n",
       " 1        NaN        NaN        NaN  211.242170         8.106       True  \n",
       " 2        NaN        NaN        NaN  211.289143         8.106      False  \n",
       " 3        NaN        NaN        NaN  211.319643         8.106      False  \n",
       " 4        NaN        NaN        NaN  211.350143         8.106      False  )"
      ]
     },
     "execution_count": 4,
     "metadata": {},
     "output_type": "execute_result"
    }
   ],
   "source": [
    "# Load datasets\n",
    "sales_df = pd.read_csv(r'C:\\Users\\007ri\\Product_EDA/data/sales data-set.csv')\n",
    "stores_df = pd.read_csv(r'C:\\Users\\007ri\\Product_EDA/data/stores data-set.csv')\n",
    "features_df = pd.read_csv(r'C:\\Users\\007ri\\Product_EDA/data/Features data set.csv')\n",
    "\n",
    "# display 1st few rows\n",
    "sales_df.head(), stores_df.head(), features_df.head()\n"
   ]
  },
  {
   "cell_type": "code",
   "execution_count": null,
   "id": "e305c2ff-f10e-4569-b84a-d6c960f0f01f",
   "metadata": {},
   "outputs": [],
   "source": []
  }
 ],
 "metadata": {
  "kernelspec": {
   "display_name": "Python 3 (ipykernel)",
   "language": "python",
   "name": "python3"
  },
  "language_info": {
   "codemirror_mode": {
    "name": "ipython",
    "version": 3
   },
   "file_extension": ".py",
   "mimetype": "text/x-python",
   "name": "python",
   "nbconvert_exporter": "python",
   "pygments_lexer": "ipython3",
   "version": "3.13.2"
  }
 },
 "nbformat": 4,
 "nbformat_minor": 5
}
